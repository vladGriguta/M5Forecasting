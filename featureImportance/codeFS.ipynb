{
 "cells": [
  {
   "cell_type": "code",
   "execution_count": null,
   "metadata": {},
   "outputs": [],
   "source": [
    "from lofo import LOFOImportance, Dataset, plot_importance\n",
    "from sklearn.model_selection import KFold\n",
    "import xgboost\n",
    "params = {\"objective\": \"count:poisson\",\n",
    "          \"learning_rate\" : 0.075,\n",
    "          \"max_depth\": 6,\n",
    "          'n_estimators': 200,\n",
    "          'min_child_weight': 50,\n",
    "          \"tree_method\": 'gpu_hist', \"gpu_id\": 0}\n",
    "xgb_reg = xgboost.XGBRegressor(**params)\n",
    "lofo_imp = LOFOImportance(dataset, cv=cv, scoring=\"neg_mean_squared_error\", model=xgb_reg)\n",
    "\n",
    "# get the mean and standard deviation of the importances in pandas format\n",
    "importance_df = lofo_imp.get_importance()"
   ]
  }
 ],
 "metadata": {
  "kernelspec": {
   "display_name": "Python 3",
   "language": "python",
   "name": "python3"
  },
  "language_info": {
   "codemirror_mode": {
    "name": "ipython",
    "version": 3
   },
   "file_extension": ".py",
   "mimetype": "text/x-python",
   "name": "python",
   "nbconvert_exporter": "python",
   "pygments_lexer": "ipython3",
   "version": "3.7.3"
  }
 },
 "nbformat": 4,
 "nbformat_minor": 4
}
